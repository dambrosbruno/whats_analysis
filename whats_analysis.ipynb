{
 "cells": [
  {
   "cell_type": "code",
   "execution_count": 1,
   "id": "8d580996",
   "metadata": {},
   "outputs": [],
   "source": [
    "import os\n",
    "import pandas as pd\n",
    "import plotly.express as px\n",
    "import plotly.graph_objects as go\n",
    "pd.set_option('display.max_rows', None)"
   ]
  },
  {
   "cell_type": "code",
   "execution_count": 2,
   "id": "714a81b5",
   "metadata": {},
   "outputs": [],
   "source": [
    "# 1 abrir o arquivo de texto do whatss\n",
    "with open(file='Cafe.txt', mode='r', encoding=\"utf8\") as f:\n",
    "    data = f.readlines()\n",
    "    dataset = data[1:]\n",
    "dataset"
   ]
  },
  {
   "cell_type": "code",
   "execution_count": 3,
   "id": "d197792d",
   "metadata": {},
   "outputs": [],
   "source": [
    "# 2 limpar o arquivo\n",
    "cleaned_data = []\n",
    "\n",
    "for line in dataset:    \n",
    "    date = line.split(\"-\")[0]\n",
    "    line2 = line[len(date):]\n",
    "\n",
    "    name = line2.split(\":\")[0][2:]\n",
    "    line4 = line2[len(name):]\n",
    "    \n",
    "    message =line4[3:-1]\n",
    "\n",
    "    cleaned_data.append([date, name, message])"
   ]
  },
  {
   "cell_type": "code",
   "execution_count": 4,
   "id": "7e0dc3fc",
   "metadata": {},
   "outputs": [],
   "source": [
    "#3 criar dataframe novo\n",
    "df = pd.DataFrame(cleaned_data, columns = ['Date', 'Name', 'Message'])"
   ]
  },
  {
   "cell_type": "code",
   "execution_count": 5,
   "id": "f3da035f",
   "metadata": {},
   "outputs": [],
   "source": [
    "# 4 limpar linhas erradas ou nulas\n",
    "df = df.drop(df.index[[11,12,30,31,101,102,104,105,116,117,167,168,200,201,215,216,281,282,283,284,285,286,363,364,468,469,501,510,511\n",
    "]])"
   ]
  },
  {
   "cell_type": "code",
   "execution_count": 6,
   "id": "1b220679",
   "metadata": {},
   "outputs": [],
   "source": [
    "# 5 Converter colunas de data e tempo em datetime\n",
    "df['Date'] = pd.to_datetime(df['Date'])"
   ]
  },
  {
   "cell_type": "code",
   "execution_count": 7,
   "id": "4d0a9ed7",
   "metadata": {},
   "outputs": [],
   "source": [
    "#6 Contar strings em Message\n",
    "df['char_count'] = df['Message'].str.len()"
   ]
  },
  {
   "cell_type": "code",
   "execution_count": 8,
   "id": "bae50bfd",
   "metadata": {},
   "outputs": [],
   "source": [
    "# 7 salvar como excel\n",
    "df.to_excel('cafe.xlsx')"
   ]
  }
 ],
 "metadata": {
  "kernelspec": {
   "display_name": "Python 3 (ipykernel)",
   "language": "python",
   "name": "python3"
  },
  "language_info": {
   "codemirror_mode": {
    "name": "ipython",
    "version": 3
   },
   "file_extension": ".py",
   "mimetype": "text/x-python",
   "name": "python",
   "nbconvert_exporter": "python",
   "pygments_lexer": "ipython3",
   "version": "3.9.7"
  }
 },
 "nbformat": 4,
 "nbformat_minor": 5
}
